{
  "cells": [
    {
      "cell_type": "markdown",
      "source": [
        "# Modulo 3: Basi di inferenza e analisi predittiva\n",
        "\n",
        "Il nostro primo database è l'indagine sui bilanci delle famiglie italiane (Banca d'Italia). Ci concentriamo sulle famiglie con genitori in età lavorativa, in cui pertanto almeno un componente lavora. \n",
        "\n",
        "**L'obiettivo è quello di capire come determinate caratteristiche sociodemografiche sono associate con il reddito delle famiglie italiane.**"
      ],
      "metadata": {
        "id": "_zP0BGfCHOSn"
      }
    },
    {
      "cell_type": "code",
      "source": [
        "import pandas as pd\n",
        "import numpy as np\n",
        "import matplotlib.pyplot as plt\n",
        "from google.colab import data_table\n",
        "import statsmodels.api as sm\n",
        "data_table.enable_dataframe_formatter()"
      ],
      "metadata": {
        "id": "RlTTeitLgTzP",
        "colab": {
          "base_uri": "https://localhost:8080/"
        },
        "outputId": "463d5145-da3a-4c0b-b9ba-f11b8fd86749"
      },
      "execution_count": null,
      "outputs": [
        {
          "output_type": "stream",
          "name": "stderr",
          "text": [
            "/usr/local/lib/python3.7/dist-packages/statsmodels/tools/_testing.py:19: FutureWarning: pandas.util.testing is deprecated. Use the functions in the public API at pandas.testing instead.\n",
            "  import pandas.util.testing as tm\n"
          ]
        }
      ]
    },
    {
      "cell_type": "code",
      "source": [
        "famiglie = pd.read_csv('https://raw.githubusercontent.com/federicadaniele/PCTOcodingdatascience/main/Modulo3/shiw_famiglie.csv')\n",
        "famiglie = famiglie[famiglie['singleparent']==0]\n",
        "famiglie.head(100)"
      ],
      "metadata": {
        "colab": {
          "base_uri": "https://localhost:8080/",
          "height": 441
        },
        "id": "sUtlysh9gUbP",
        "outputId": "fed419e9-7aab-4d04-a8fc-d27a08ec66e9"
      },
      "execution_count": null,
      "outputs": [
        {
          "output_type": "stream",
          "name": "stdout",
          "text": [
            "Warning: Total number of columns (29) exceeds max_columns (20). Falling back to pandas display.\n"
          ]
        },
        {
          "output_type": "execute_result",
          "data": {
            "text/plain": [
              "     nquest        ar           af           w  bollette       cn     cd  \\\n",
              "1     20297   80000.0    5000.0000   85000.000    4000.0  28810.0      0   \n",
              "2     22099  485000.0    8139.2813  493139.280    1000.0  16200.0      0   \n",
              "3     22624    3500.0       0.0000    1500.000       NaN  22600.0      0   \n",
              "4     23797    5000.0    8500.0000  -37806.387       NaN  35800.0      0   \n",
              "5     24194  124000.0  100000.0000  224000.000    3500.0  25650.0   1600   \n",
              "..      ...       ...          ...         ...       ...      ...    ...   \n",
              "124  507541  260000.0   12000.0000  272000.000       NaN  47100.0  12000   \n",
              "125  507544  532000.0    2050.0000  375050.000       NaN  39250.0  20500   \n",
              "126  507552    2000.0   23000.0000   25000.000       NaN  26900.0  16780   \n",
              "127  507905  102000.0   12000.0000  108000.000       NaN  28700.0      0   \n",
              "129  509057   24000.0    1506.1814   25506.182       NaN  31320.0    200   \n",
              "\n",
              "           c  ncomp  acom5  ...  padre_lavora  padre_eta  madre_eta  \\\n",
              "1    28810.0      2      5  ...           0.0       56.0       37.0   \n",
              "2    16200.0      2      3  ...           1.0       58.0       54.0   \n",
              "3    22600.0      4      4  ...           1.0       59.0       55.0   \n",
              "4    35800.0      2      5  ...           1.0       61.0       58.0   \n",
              "5    27250.0      4      3  ...           0.0       64.0       56.0   \n",
              "..       ...    ...    ...  ...           ...        ...        ...   \n",
              "124  59100.0      4      1  ...           1.0       55.0       49.0   \n",
              "125  59750.0      3      1  ...           0.0       63.0       61.0   \n",
              "126  43680.0      4      1  ...           1.0       47.0       43.0   \n",
              "127  28700.0      7      1  ...           0.0       65.0       61.0   \n",
              "129  31520.0      4      1  ...           0.0       65.0       57.0   \n",
              "\n",
              "     macroarea  madre_laurea  padre_laurea  padre_servizi  padre_industria  \\\n",
              "1         nord           0.0           0.0            NaN              NaN   \n",
              "2          sud           0.0           0.0            1.0              0.0   \n",
              "3          sud           0.0           0.0            0.0              1.0   \n",
              "4          sud           0.0           0.0            1.0              0.0   \n",
              "5         nord           0.0           0.0            NaN              NaN   \n",
              "..         ...           ...           ...            ...              ...   \n",
              "124     centro           0.0           0.0            1.0              0.0   \n",
              "125     centro           1.0           0.0            NaN              NaN   \n",
              "126     centro           0.0           0.0            0.0              1.0   \n",
              "127     centro           0.0           0.0            NaN              NaN   \n",
              "129        sud           0.0           0.0            NaN              NaN   \n",
              "\n",
              "     madre_servizi  madre_industria  \n",
              "1              1.0              0.0  \n",
              "2              NaN              NaN  \n",
              "3              NaN              NaN  \n",
              "4              NaN              NaN  \n",
              "5              1.0              0.0  \n",
              "..             ...              ...  \n",
              "124            0.0              1.0  \n",
              "125            1.0              0.0  \n",
              "126            1.0              0.0  \n",
              "127            NaN              NaN  \n",
              "129            NaN              NaN  \n",
              "\n",
              "[100 rows x 29 columns]"
            ],
            "text/html": [
              "\n",
              "  <div id=\"df-185fcbb1-b0bd-469e-bc90-5c528e73a73c\">\n",
              "    <div class=\"colab-df-container\">\n",
              "      <div>\n",
              "<style scoped>\n",
              "    .dataframe tbody tr th:only-of-type {\n",
              "        vertical-align: middle;\n",
              "    }\n",
              "\n",
              "    .dataframe tbody tr th {\n",
              "        vertical-align: top;\n",
              "    }\n",
              "\n",
              "    .dataframe thead th {\n",
              "        text-align: right;\n",
              "    }\n",
              "</style>\n",
              "<table border=\"1\" class=\"dataframe\">\n",
              "  <thead>\n",
              "    <tr style=\"text-align: right;\">\n",
              "      <th></th>\n",
              "      <th>nquest</th>\n",
              "      <th>ar</th>\n",
              "      <th>af</th>\n",
              "      <th>w</th>\n",
              "      <th>bollette</th>\n",
              "      <th>cn</th>\n",
              "      <th>cd</th>\n",
              "      <th>c</th>\n",
              "      <th>ncomp</th>\n",
              "      <th>acom5</th>\n",
              "      <th>...</th>\n",
              "      <th>padre_lavora</th>\n",
              "      <th>padre_eta</th>\n",
              "      <th>madre_eta</th>\n",
              "      <th>macroarea</th>\n",
              "      <th>madre_laurea</th>\n",
              "      <th>padre_laurea</th>\n",
              "      <th>padre_servizi</th>\n",
              "      <th>padre_industria</th>\n",
              "      <th>madre_servizi</th>\n",
              "      <th>madre_industria</th>\n",
              "    </tr>\n",
              "  </thead>\n",
              "  <tbody>\n",
              "    <tr>\n",
              "      <th>1</th>\n",
              "      <td>20297</td>\n",
              "      <td>80000.0</td>\n",
              "      <td>5000.0000</td>\n",
              "      <td>85000.000</td>\n",
              "      <td>4000.0</td>\n",
              "      <td>28810.0</td>\n",
              "      <td>0</td>\n",
              "      <td>28810.0</td>\n",
              "      <td>2</td>\n",
              "      <td>5</td>\n",
              "      <td>...</td>\n",
              "      <td>0.0</td>\n",
              "      <td>56.0</td>\n",
              "      <td>37.0</td>\n",
              "      <td>nord</td>\n",
              "      <td>0.0</td>\n",
              "      <td>0.0</td>\n",
              "      <td>NaN</td>\n",
              "      <td>NaN</td>\n",
              "      <td>1.0</td>\n",
              "      <td>0.0</td>\n",
              "    </tr>\n",
              "    <tr>\n",
              "      <th>2</th>\n",
              "      <td>22099</td>\n",
              "      <td>485000.0</td>\n",
              "      <td>8139.2813</td>\n",
              "      <td>493139.280</td>\n",
              "      <td>1000.0</td>\n",
              "      <td>16200.0</td>\n",
              "      <td>0</td>\n",
              "      <td>16200.0</td>\n",
              "      <td>2</td>\n",
              "      <td>3</td>\n",
              "      <td>...</td>\n",
              "      <td>1.0</td>\n",
              "      <td>58.0</td>\n",
              "      <td>54.0</td>\n",
              "      <td>sud</td>\n",
              "      <td>0.0</td>\n",
              "      <td>0.0</td>\n",
              "      <td>1.0</td>\n",
              "      <td>0.0</td>\n",
              "      <td>NaN</td>\n",
              "      <td>NaN</td>\n",
              "    </tr>\n",
              "    <tr>\n",
              "      <th>3</th>\n",
              "      <td>22624</td>\n",
              "      <td>3500.0</td>\n",
              "      <td>0.0000</td>\n",
              "      <td>1500.000</td>\n",
              "      <td>NaN</td>\n",
              "      <td>22600.0</td>\n",
              "      <td>0</td>\n",
              "      <td>22600.0</td>\n",
              "      <td>4</td>\n",
              "      <td>4</td>\n",
              "      <td>...</td>\n",
              "      <td>1.0</td>\n",
              "      <td>59.0</td>\n",
              "      <td>55.0</td>\n",
              "      <td>sud</td>\n",
              "      <td>0.0</td>\n",
              "      <td>0.0</td>\n",
              "      <td>0.0</td>\n",
              "      <td>1.0</td>\n",
              "      <td>NaN</td>\n",
              "      <td>NaN</td>\n",
              "    </tr>\n",
              "    <tr>\n",
              "      <th>4</th>\n",
              "      <td>23797</td>\n",
              "      <td>5000.0</td>\n",
              "      <td>8500.0000</td>\n",
              "      <td>-37806.387</td>\n",
              "      <td>NaN</td>\n",
              "      <td>35800.0</td>\n",
              "      <td>0</td>\n",
              "      <td>35800.0</td>\n",
              "      <td>2</td>\n",
              "      <td>5</td>\n",
              "      <td>...</td>\n",
              "      <td>1.0</td>\n",
              "      <td>61.0</td>\n",
              "      <td>58.0</td>\n",
              "      <td>sud</td>\n",
              "      <td>0.0</td>\n",
              "      <td>0.0</td>\n",
              "      <td>1.0</td>\n",
              "      <td>0.0</td>\n",
              "      <td>NaN</td>\n",
              "      <td>NaN</td>\n",
              "    </tr>\n",
              "    <tr>\n",
              "      <th>5</th>\n",
              "      <td>24194</td>\n",
              "      <td>124000.0</td>\n",
              "      <td>100000.0000</td>\n",
              "      <td>224000.000</td>\n",
              "      <td>3500.0</td>\n",
              "      <td>25650.0</td>\n",
              "      <td>1600</td>\n",
              "      <td>27250.0</td>\n",
              "      <td>4</td>\n",
              "      <td>3</td>\n",
              "      <td>...</td>\n",
              "      <td>0.0</td>\n",
              "      <td>64.0</td>\n",
              "      <td>56.0</td>\n",
              "      <td>nord</td>\n",
              "      <td>0.0</td>\n",
              "      <td>0.0</td>\n",
              "      <td>NaN</td>\n",
              "      <td>NaN</td>\n",
              "      <td>1.0</td>\n",
              "      <td>0.0</td>\n",
              "    </tr>\n",
              "    <tr>\n",
              "      <th>...</th>\n",
              "      <td>...</td>\n",
              "      <td>...</td>\n",
              "      <td>...</td>\n",
              "      <td>...</td>\n",
              "      <td>...</td>\n",
              "      <td>...</td>\n",
              "      <td>...</td>\n",
              "      <td>...</td>\n",
              "      <td>...</td>\n",
              "      <td>...</td>\n",
              "      <td>...</td>\n",
              "      <td>...</td>\n",
              "      <td>...</td>\n",
              "      <td>...</td>\n",
              "      <td>...</td>\n",
              "      <td>...</td>\n",
              "      <td>...</td>\n",
              "      <td>...</td>\n",
              "      <td>...</td>\n",
              "      <td>...</td>\n",
              "      <td>...</td>\n",
              "    </tr>\n",
              "    <tr>\n",
              "      <th>124</th>\n",
              "      <td>507541</td>\n",
              "      <td>260000.0</td>\n",
              "      <td>12000.0000</td>\n",
              "      <td>272000.000</td>\n",
              "      <td>NaN</td>\n",
              "      <td>47100.0</td>\n",
              "      <td>12000</td>\n",
              "      <td>59100.0</td>\n",
              "      <td>4</td>\n",
              "      <td>1</td>\n",
              "      <td>...</td>\n",
              "      <td>1.0</td>\n",
              "      <td>55.0</td>\n",
              "      <td>49.0</td>\n",
              "      <td>centro</td>\n",
              "      <td>0.0</td>\n",
              "      <td>0.0</td>\n",
              "      <td>1.0</td>\n",
              "      <td>0.0</td>\n",
              "      <td>0.0</td>\n",
              "      <td>1.0</td>\n",
              "    </tr>\n",
              "    <tr>\n",
              "      <th>125</th>\n",
              "      <td>507544</td>\n",
              "      <td>532000.0</td>\n",
              "      <td>2050.0000</td>\n",
              "      <td>375050.000</td>\n",
              "      <td>NaN</td>\n",
              "      <td>39250.0</td>\n",
              "      <td>20500</td>\n",
              "      <td>59750.0</td>\n",
              "      <td>3</td>\n",
              "      <td>1</td>\n",
              "      <td>...</td>\n",
              "      <td>0.0</td>\n",
              "      <td>63.0</td>\n",
              "      <td>61.0</td>\n",
              "      <td>centro</td>\n",
              "      <td>1.0</td>\n",
              "      <td>0.0</td>\n",
              "      <td>NaN</td>\n",
              "      <td>NaN</td>\n",
              "      <td>1.0</td>\n",
              "      <td>0.0</td>\n",
              "    </tr>\n",
              "    <tr>\n",
              "      <th>126</th>\n",
              "      <td>507552</td>\n",
              "      <td>2000.0</td>\n",
              "      <td>23000.0000</td>\n",
              "      <td>25000.000</td>\n",
              "      <td>NaN</td>\n",
              "      <td>26900.0</td>\n",
              "      <td>16780</td>\n",
              "      <td>43680.0</td>\n",
              "      <td>4</td>\n",
              "      <td>1</td>\n",
              "      <td>...</td>\n",
              "      <td>1.0</td>\n",
              "      <td>47.0</td>\n",
              "      <td>43.0</td>\n",
              "      <td>centro</td>\n",
              "      <td>0.0</td>\n",
              "      <td>0.0</td>\n",
              "      <td>0.0</td>\n",
              "      <td>1.0</td>\n",
              "      <td>1.0</td>\n",
              "      <td>0.0</td>\n",
              "    </tr>\n",
              "    <tr>\n",
              "      <th>127</th>\n",
              "      <td>507905</td>\n",
              "      <td>102000.0</td>\n",
              "      <td>12000.0000</td>\n",
              "      <td>108000.000</td>\n",
              "      <td>NaN</td>\n",
              "      <td>28700.0</td>\n",
              "      <td>0</td>\n",
              "      <td>28700.0</td>\n",
              "      <td>7</td>\n",
              "      <td>1</td>\n",
              "      <td>...</td>\n",
              "      <td>0.0</td>\n",
              "      <td>65.0</td>\n",
              "      <td>61.0</td>\n",
              "      <td>centro</td>\n",
              "      <td>0.0</td>\n",
              "      <td>0.0</td>\n",
              "      <td>NaN</td>\n",
              "      <td>NaN</td>\n",
              "      <td>NaN</td>\n",
              "      <td>NaN</td>\n",
              "    </tr>\n",
              "    <tr>\n",
              "      <th>129</th>\n",
              "      <td>509057</td>\n",
              "      <td>24000.0</td>\n",
              "      <td>1506.1814</td>\n",
              "      <td>25506.182</td>\n",
              "      <td>NaN</td>\n",
              "      <td>31320.0</td>\n",
              "      <td>200</td>\n",
              "      <td>31520.0</td>\n",
              "      <td>4</td>\n",
              "      <td>1</td>\n",
              "      <td>...</td>\n",
              "      <td>0.0</td>\n",
              "      <td>65.0</td>\n",
              "      <td>57.0</td>\n",
              "      <td>sud</td>\n",
              "      <td>0.0</td>\n",
              "      <td>0.0</td>\n",
              "      <td>NaN</td>\n",
              "      <td>NaN</td>\n",
              "      <td>NaN</td>\n",
              "      <td>NaN</td>\n",
              "    </tr>\n",
              "  </tbody>\n",
              "</table>\n",
              "<p>100 rows × 29 columns</p>\n",
              "</div>\n",
              "      <button class=\"colab-df-convert\" onclick=\"convertToInteractive('df-185fcbb1-b0bd-469e-bc90-5c528e73a73c')\"\n",
              "              title=\"Convert this dataframe to an interactive table.\"\n",
              "              style=\"display:none;\">\n",
              "        \n",
              "  <svg xmlns=\"http://www.w3.org/2000/svg\" height=\"24px\"viewBox=\"0 0 24 24\"\n",
              "       width=\"24px\">\n",
              "    <path d=\"M0 0h24v24H0V0z\" fill=\"none\"/>\n",
              "    <path d=\"M18.56 5.44l.94 2.06.94-2.06 2.06-.94-2.06-.94-.94-2.06-.94 2.06-2.06.94zm-11 1L8.5 8.5l.94-2.06 2.06-.94-2.06-.94L8.5 2.5l-.94 2.06-2.06.94zm10 10l.94 2.06.94-2.06 2.06-.94-2.06-.94-.94-2.06-.94 2.06-2.06.94z\"/><path d=\"M17.41 7.96l-1.37-1.37c-.4-.4-.92-.59-1.43-.59-.52 0-1.04.2-1.43.59L10.3 9.45l-7.72 7.72c-.78.78-.78 2.05 0 2.83L4 21.41c.39.39.9.59 1.41.59.51 0 1.02-.2 1.41-.59l7.78-7.78 2.81-2.81c.8-.78.8-2.07 0-2.86zM5.41 20L4 18.59l7.72-7.72 1.47 1.35L5.41 20z\"/>\n",
              "  </svg>\n",
              "      </button>\n",
              "      \n",
              "  <style>\n",
              "    .colab-df-container {\n",
              "      display:flex;\n",
              "      flex-wrap:wrap;\n",
              "      gap: 12px;\n",
              "    }\n",
              "\n",
              "    .colab-df-convert {\n",
              "      background-color: #E8F0FE;\n",
              "      border: none;\n",
              "      border-radius: 50%;\n",
              "      cursor: pointer;\n",
              "      display: none;\n",
              "      fill: #1967D2;\n",
              "      height: 32px;\n",
              "      padding: 0 0 0 0;\n",
              "      width: 32px;\n",
              "    }\n",
              "\n",
              "    .colab-df-convert:hover {\n",
              "      background-color: #E2EBFA;\n",
              "      box-shadow: 0px 1px 2px rgba(60, 64, 67, 0.3), 0px 1px 3px 1px rgba(60, 64, 67, 0.15);\n",
              "      fill: #174EA6;\n",
              "    }\n",
              "\n",
              "    [theme=dark] .colab-df-convert {\n",
              "      background-color: #3B4455;\n",
              "      fill: #D2E3FC;\n",
              "    }\n",
              "\n",
              "    [theme=dark] .colab-df-convert:hover {\n",
              "      background-color: #434B5C;\n",
              "      box-shadow: 0px 1px 3px 1px rgba(0, 0, 0, 0.15);\n",
              "      filter: drop-shadow(0px 1px 2px rgba(0, 0, 0, 0.3));\n",
              "      fill: #FFFFFF;\n",
              "    }\n",
              "  </style>\n",
              "\n",
              "      <script>\n",
              "        const buttonEl =\n",
              "          document.querySelector('#df-185fcbb1-b0bd-469e-bc90-5c528e73a73c button.colab-df-convert');\n",
              "        buttonEl.style.display =\n",
              "          google.colab.kernel.accessAllowed ? 'block' : 'none';\n",
              "\n",
              "        async function convertToInteractive(key) {\n",
              "          const element = document.querySelector('#df-185fcbb1-b0bd-469e-bc90-5c528e73a73c');\n",
              "          const dataTable =\n",
              "            await google.colab.kernel.invokeFunction('convertToInteractive',\n",
              "                                                     [key], {});\n",
              "          if (!dataTable) return;\n",
              "\n",
              "          const docLinkHtml = 'Like what you see? Visit the ' +\n",
              "            '<a target=\"_blank\" href=https://colab.research.google.com/notebooks/data_table.ipynb>data table notebook</a>'\n",
              "            + ' to learn more about interactive tables.';\n",
              "          element.innerHTML = '';\n",
              "          dataTable['output_type'] = 'display_data';\n",
              "          await google.colab.output.renderOutput(dataTable, element);\n",
              "          const docLink = document.createElement('div');\n",
              "          docLink.innerHTML = docLinkHtml;\n",
              "          element.appendChild(docLink);\n",
              "        }\n",
              "      </script>\n",
              "    </div>\n",
              "  </div>\n",
              "  "
            ]
          },
          "metadata": {},
          "execution_count": 3
        }
      ]
    },
    {
      "cell_type": "markdown",
      "source": [
        "L'identificativo di una famiglia è la variabile **nquest**. Quante famiglie ci sono nel dataset?"
      ],
      "metadata": {
        "id": "DMiiOGoFx1D9"
      }
    },
    {
      "cell_type": "code",
      "source": [
        "# completa!"
      ],
      "metadata": {
        "id": "TNBJ1SKax1rj"
      },
      "execution_count": null,
      "outputs": []
    },
    {
      "cell_type": "markdown",
      "source": [
        "Quali variabili?"
      ],
      "metadata": {
        "id": "YYP3lrgeyD7Y"
      }
    },
    {
      "cell_type": "code",
      "source": [
        "# completa!"
      ],
      "metadata": {
        "id": "WA1YDEzyyF52"
      },
      "execution_count": null,
      "outputs": []
    },
    {
      "cell_type": "markdown",
      "source": [
        "I nostri dati contengono due tipi di informazioni inerenti a ciascuna famiglia:\n",
        "- informazioni di natura sociodemografica (numero/età/sesso dei figli, regione di residenza, età dei genitori) \n",
        "- informazioni di natura economica (se i genitori lavorano, il reddito complessivo della famiglia, i consumi, la ricchezza, etc.)"
      ],
      "metadata": {
        "id": "qzRbseYfgpEn"
      }
    },
    {
      "cell_type": "code",
      "source": [
        "# distribuzione del numero di figli \n",
        "famiglie.hist('nfigli',bins=5)\n",
        "plt.axvline(famiglie['nfigli'].quantile(q=0.50), color='k', linestyle='dashed', linewidth=1) "
      ],
      "metadata": {
        "colab": {
          "base_uri": "https://localhost:8080/",
          "height": 298
        },
        "id": "91aYjrQrirMf",
        "outputId": "6c3c6d3e-148c-4e3a-9651-8cfeda8ce8f4"
      },
      "execution_count": null,
      "outputs": [
        {
          "output_type": "execute_result",
          "data": {
            "text/plain": [
              "<matplotlib.lines.Line2D at 0x7f981771cfd0>"
            ]
          },
          "metadata": {},
          "execution_count": 4
        },
        {
          "output_type": "display_data",
          "data": {
            "image/png": "[encoded data removed]",
            "text/plain": [
              "<Figure size 432x288 with 1 Axes>"
            ]
          },
          "metadata": {
            "needs_background": "light"
          }
        }
      ]
    },
    {
      "cell_type": "markdown",
      "source": [
        "Qual'è il numero di figli medio per famiglia?"
      ],
      "metadata": {
        "id": "BpWSpzBA5j6h"
      }
    },
    {
      "cell_type": "code",
      "source": [
        "# completa!"
      ],
      "metadata": {
        "id": "JlMW-0Ov5jRH"
      },
      "execution_count": null,
      "outputs": []
    },
    {
      "cell_type": "markdown",
      "source": [
        "E la mediana?"
      ],
      "metadata": {
        "id": "c37mI4BD5vxW"
      }
    },
    {
      "cell_type": "code",
      "source": [
        "# completa!"
      ],
      "metadata": {
        "id": "9MLY1N6j5xFC"
      },
      "execution_count": null,
      "outputs": []
    },
    {
      "cell_type": "code",
      "source": [
        "# provenienza geografica\n",
        "famiglie['sud'] = 0\n",
        "famiglie.loc[famiglie['macroarea'] =='sud', 'sud'] = 1\n",
        "pd.crosstab(index=famiglie['sud'], columns='count')\n",
        "\n",
        "pd.crosstab(index=famiglie['sud'], columns='count')"
      ],
      "metadata": {
        "colab": {
          "base_uri": "https://localhost:8080/",
          "height": 133
        },
        "id": "Ndf27Cn4i-md",
        "outputId": "7ad75dac-fc8c-4287-893c-f41e028381f8"
      },
      "execution_count": null,
      "outputs": [
        {
          "output_type": "execute_result",
          "data": {
            "application/vnd.google.colaboratory.module+javascript": "\n      import \"https://ssl.gstatic.com/colaboratory/data_table/81f25a011006ed3d/data_table.js\";\n\n      window.createDataTable({\n        data: [[{\n            'v': 0,\n            'f': \"0\",\n        },\n{\n            'v': 1305,\n            'f': \"1305\",\n        }],\n [{\n            'v': 1,\n            'f': \"1\",\n        },\n{\n            'v': 778,\n            'f': \"778\",\n        }]],\n        columns: [[\"number\", \"sud\"], [\"number\", \"count\"]],\n        columnOptions: [{\"width\": \"1px\", \"className\": \"index_column\"}],\n        rowsPerPage: 25,\n        helpUrl: \"https://colab.research.google.com/notebooks/data_table.ipynb\",\n        suppressOutputScrolling: true,\n        minimumWidth: undefined,\n      });\n    ",
            "text/html": [
              "\n",
              "  <div id=\"df-263d6d8c-3bcf-4e5d-93f7-e0249f4a54d0\">\n",
              "    <div class=\"colab-df-container\">\n",
              "      <div>\n",
              "<style scoped>\n",
              "    .dataframe tbody tr th:only-of-type {\n",
              "        vertical-align: middle;\n",
              "    }\n",
              "\n",
              "    .dataframe tbody tr th {\n",
              "        vertical-align: top;\n",
              "    }\n",
              "\n",
              "    .dataframe thead th {\n",
              "        text-align: right;\n",
              "    }\n",
              "</style>\n",
              "<table border=\"1\" class=\"dataframe\">\n",
              "  <thead>\n",
              "    <tr style=\"text-align: right;\">\n",
              "      <th>col_0</th>\n",
              "      <th>count</th>\n",
              "    </tr>\n",
              "    <tr>\n",
              "      <th>sud</th>\n",
              "      <th></th>\n",
              "    </tr>\n",
              "  </thead>\n",
              "  <tbody>\n",
              "    <tr>\n",
              "      <th>0</th>\n",
              "      <td>1305</td>\n",
              "    </tr>\n",
              "    <tr>\n",
              "      <th>1</th>\n",
              "      <td>778</td>\n",
              "    </tr>\n",
              "  </tbody>\n",
              "</table>\n",
              "</div>\n",
              "      <button class=\"colab-df-convert\" onclick=\"convertToInteractive('df-263d6d8c-3bcf-4e5d-93f7-e0249f4a54d0')\"\n",
              "              title=\"Convert this dataframe to an interactive table.\"\n",
              "              style=\"display:none;\">\n",
              "        \n",
              "  <svg xmlns=\"http://www.w3.org/2000/svg\" height=\"24px\"viewBox=\"0 0 24 24\"\n",
              "       width=\"24px\">\n",
              "    <path d=\"M0 0h24v24H0V0z\" fill=\"none\"/>\n",
              "    <path d=\"M18.56 5.44l.94 2.06.94-2.06 2.06-.94-2.06-.94-.94-2.06-.94 2.06-2.06.94zm-11 1L8.5 8.5l.94-2.06 2.06-.94-2.06-.94L8.5 2.5l-.94 2.06-2.06.94zm10 10l.94 2.06.94-2.06 2.06-.94-2.06-.94-.94-2.06-.94 2.06-2.06.94z\"/><path d=\"M17.41 7.96l-1.37-1.37c-.4-.4-.92-.59-1.43-.59-.52 0-1.04.2-1.43.59L10.3 9.45l-7.72 7.72c-.78.78-.78 2.05 0 2.83L4 21.41c.39.39.9.59 1.41.59.51 0 1.02-.2 1.41-.59l7.78-7.78 2.81-2.81c.8-.78.8-2.07 0-2.86zM5.41 20L4 18.59l7.72-7.72 1.47 1.35L5.41 20z\"/>\n",
              "  </svg>\n",
              "      </button>\n",
              "      \n",
              "  <style>\n",
              "    .colab-df-container {\n",
              "      display:flex;\n",
              "      flex-wrap:wrap;\n",
              "      gap: 12px;\n",
              "    }\n",
              "\n",
              "    .colab-df-convert {\n",
              "      background-color: #E8F0FE;\n",
              "      border: none;\n",
              "      border-radius: 50%;\n",
              "      cursor: pointer;\n",
              "      display: none;\n",
              "      fill: #1967D2;\n",
              "      height: 32px;\n",
              "      padding: 0 0 0 0;\n",
              "      width: 32px;\n",
              "    }\n",
              "\n",
              "    .colab-df-convert:hover {\n",
              "      background-color: #E2EBFA;\n",
              "      box-shadow: 0px 1px 2px rgba(60, 64, 67, 0.3), 0px 1px 3px 1px rgba(60, 64, 67, 0.15);\n",
              "      fill: #174EA6;\n",
              "    }\n",
              "\n",
              "    [theme=dark] .colab-df-convert {\n",
              "      background-color: #3B4455;\n",
              "      fill: #D2E3FC;\n",
              "    }\n",
              "\n",
              "    [theme=dark] .colab-df-convert:hover {\n",
              "      background-color: #434B5C;\n",
              "      box-shadow: 0px 1px 3px 1px rgba(0, 0, 0, 0.15);\n",
              "      filter: drop-shadow(0px 1px 2px rgba(0, 0, 0, 0.3));\n",
              "      fill: #FFFFFF;\n",
              "    }\n",
              "  </style>\n",
              "\n",
              "      <script>\n",
              "        const buttonEl =\n",
              "          document.querySelector('#df-263d6d8c-3bcf-4e5d-93f7-e0249f4a54d0 button.colab-df-convert');\n",
              "        buttonEl.style.display =\n",
              "          google.colab.kernel.accessAllowed ? 'block' : 'none';\n",
              "\n",
              "        async function convertToInteractive(key) {\n",
              "          const element = document.querySelector('#df-263d6d8c-3bcf-4e5d-93f7-e0249f4a54d0');\n",
              "          const dataTable =\n",
              "            await google.colab.kernel.invokeFunction('convertToInteractive',\n",
              "                                                     [key], {});\n",
              "          if (!dataTable) return;\n",
              "\n",
              "          const docLinkHtml = 'Like what you see? Visit the ' +\n",
              "            '<a target=\"_blank\" href=https://colab.research.google.com/notebooks/data_table.ipynb>data table notebook</a>'\n",
              "            + ' to learn more about interactive tables.';\n",
              "          element.innerHTML = '';\n",
              "          dataTable['output_type'] = 'display_data';\n",
              "          await google.colab.output.renderOutput(dataTable, element);\n",
              "          const docLink = document.createElement('div');\n",
              "          docLink.innerHTML = docLinkHtml;\n",
              "          element.appendChild(docLink);\n",
              "        }\n",
              "      </script>\n",
              "    </div>\n",
              "  </div>\n",
              "  "
            ],
            "text/plain": [
              "col_0  count\n",
              "sud         \n",
              "0       1305\n",
              "1        778"
            ]
          },
          "metadata": {},
          "execution_count": 5
        }
      ]
    },
    {
      "cell_type": "markdown",
      "source": [
        "Iniziamo con la nostra **prima regressione**. La variabile economica che vogliamo **prevedere** è il **reddito delle famiglie**. Per prima cosa, ispezioniamo la **distribuzione di questa variabile**."
      ],
      "metadata": {
        "id": "veDRCBulU_W8"
      }
    },
    {
      "cell_type": "code",
      "source": [
        "famiglie.hist('y',bins=20)\n",
        "plt.axvline(famiglie['y'].quantile(q=0.50), color='k', linestyle='dashed', linewidth=1) "
      ],
      "metadata": {
        "colab": {
          "base_uri": "https://localhost:8080/",
          "height": 298
        },
        "id": "b8Zd8jgemeuq",
        "outputId": "6dec459c-59c9-44af-e093-2282a06a5d98"
      },
      "execution_count": null,
      "outputs": [
        {
          "output_type": "execute_result",
          "data": {
            "text/plain": [
              "<matplotlib.lines.Line2D at 0x7f98149daf10>"
            ]
          },
          "metadata": {},
          "execution_count": 6
        },
        {
          "output_type": "display_data",
          "data": {
            "image/png": "[encoded data removed]",
            "text/plain": [
              "<Figure size 432x288 with 1 Axes>"
            ]
          },
          "metadata": {
            "needs_background": "light"
          }
        }
      ]
    },
    {
      "cell_type": "markdown",
      "source": [
        "Notiamo come la distribuzione del reddito è molto asimmetrica. Un \"trick\" che si utilizza spesso per renderla simmetrica è quello di \"trasformare\" la variabile con il logaritmo. Ricordiamoci sempre che per fare delle operazioni matematiche in python serve che i dati abbiano uno **specifico formato**... vi ricordate quale?\n",
        "\n"
      ],
      "metadata": {
        "id": "S6D0uwsTpxIH"
      }
    },
    {
      "cell_type": "code",
      "source": [
        "logy = np.log(famiglie['y'])\n",
        "tmp = pd.DataFrame(logy)\n",
        "tmp.columns = ['logy']\n",
        "pd.to_numeric(tmp['logy']).hist()"
      ],
      "metadata": {
        "colab": {
          "base_uri": "https://localhost:8080/",
          "height": 282
        },
        "id": "JLXyAAcr6HNq",
        "outputId": "081034fc-18a9-479c-aaed-14d74d8802de"
      },
      "execution_count": null,
      "outputs": [
        {
          "output_type": "execute_result",
          "data": {
            "text/plain": [
              "<matplotlib.axes._subplots.AxesSubplot at 0x7f981496ebd0>"
            ]
          },
          "metadata": {},
          "execution_count": 7
        },
        {
          "output_type": "display_data",
          "data": {
            "image/png": "[encoded data removed]",
            "text/plain": [
              "<Figure size 432x288 with 1 Axes>"
            ]
          },
          "metadata": {
            "needs_background": "light"
          }
        }
      ]
    },
    {
      "cell_type": "markdown",
      "source": [
        "Iniziamo da una semplice regressione con **una sola variabile:**"
      ],
      "metadata": {
        "id": "nmrcvQOp6D2S"
      }
    },
    {
      "cell_type": "code",
      "source": [
        "famiglie_redux = famiglie[['madre_lavora']]\n",
        "X = famiglie_redux.to_numpy()\n",
        "X = np.append(X,np.ones((len(famiglie_redux),1)),axis=1)\n",
        "print('Quante sono le variabili X nella nostra regressione?')\n",
        "len(X[0])"
      ],
      "metadata": {
        "colab": {
          "base_uri": "https://localhost:8080/"
        },
        "id": "g51U6zPHnwaL",
        "outputId": "5381dae6-17fe-4249-ddf5-e37ca18da72d"
      },
      "execution_count": null,
      "outputs": [
        {
          "output_type": "stream",
          "name": "stdout",
          "text": [
            "Quante sono le variabili X nella nostra regressione?\n"
          ]
        },
        {
          "output_type": "execute_result",
          "data": {
            "text/plain": [
              "2"
            ]
          },
          "metadata": {},
          "execution_count": 8
        }
      ]
    },
    {
      "cell_type": "markdown",
      "source": [
        "Ricorda che quando dobbiamo eseguire delle operazioni matematiche sui nostri dati, come per esempio la **stima di un modello**, dobbiamo prima trasformarli nel **formato** delle **numpy arrays**, che facciamo per mezzo della libreria `numpy` e del comando `df.to_numpy().`\n",
        " \n",
        "Il pacchetto che ci consente di eseguire la stima di un modello di regressione lineare è `statsmodels`. Alla funzione **OLS** dobbiamo **passargli** l'insieme delle variabili \"X\" e la variabile \"y\" del nostro modello.\n",
        "\n",
        "Pronti a stimare il nostro primo modello? Vai!"
      ],
      "metadata": {
        "id": "7vpXzek-r2uq"
      }
    },
    {
      "cell_type": "code",
      "source": [
        "# modello 1:\n",
        "ols = sm.OLS(logy, X)\n",
        "ols_result = ols.fit()\n",
        "ols_result.summary()"
      ],
      "metadata": {
        "id": "rD2kjPtFuSWG",
        "colab": {
          "base_uri": "https://localhost:8080/",
          "height": 444
        },
        "outputId": "f61a2d65-4fcd-4509-c07f-908a12a63947"
      },
      "execution_count": null,
      "outputs": [
        {
          "output_type": "execute_result",
          "data": {
            "text/html": [
              "<table class=\"simpletable\">\n",
              "<caption>OLS Regression Results</caption>\n",
              "<tr>\n",
              "  <th>Dep. Variable:</th>            <td>y</td>        <th>  R-squared:         </th> <td>   0.141</td>\n",
              "</tr>\n",
              "<tr>\n",
              "  <th>Model:</th>                   <td>OLS</td>       <th>  Adj. R-squared:    </th> <td>   0.141</td>\n",
              "</tr>\n",
              "<tr>\n",
              "  <th>Method:</th>             <td>Least Squares</td>  <th>  F-statistic:       </th> <td>   341.3</td>\n",
              "</tr>\n",
              "<tr>\n",
              "  <th>Date:</th>             <td>Fri, 11 Mar 2022</td> <th>  Prob (F-statistic):</th> <td>1.08e-70</td>\n",
              "</tr>\n",
              "<tr>\n",
              "  <th>Time:</th>                 <td>15:37:02</td>     <th>  Log-Likelihood:    </th> <td> -1666.0</td>\n",
              "</tr>\n",
              "<tr>\n",
              "  <th>No. Observations:</th>      <td>  2083</td>      <th>  AIC:               </th> <td>   3336.</td>\n",
              "</tr>\n",
              "<tr>\n",
              "  <th>Df Residuals:</th>          <td>  2081</td>      <th>  BIC:               </th> <td>   3347.</td>\n",
              "</tr>\n",
              "<tr>\n",
              "  <th>Df Model:</th>              <td>     1</td>      <th>                     </th>     <td> </td>   \n",
              "</tr>\n",
              "<tr>\n",
              "  <th>Covariance Type:</th>      <td>nonrobust</td>    <th>                     </th>     <td> </td>   \n",
              "</tr>\n",
              "</table>\n",
              "<table class=\"simpletable\">\n",
              "<tr>\n",
              "    <td></td>       <th>coef</th>     <th>std err</th>      <th>t</th>      <th>P>|t|</th>  <th>[0.025</th>    <th>0.975]</th>  \n",
              "</tr>\n",
              "<tr>\n",
              "  <th>x1</th>    <td>    0.4397</td> <td>    0.024</td> <td>   18.475</td> <td> 0.000</td> <td>    0.393</td> <td>    0.486</td>\n",
              "</tr>\n",
              "<tr>\n",
              "  <th>const</th> <td>   10.2062</td> <td>    0.018</td> <td>  570.935</td> <td> 0.000</td> <td>   10.171</td> <td>   10.241</td>\n",
              "</tr>\n",
              "</table>\n",
              "<table class=\"simpletable\">\n",
              "<tr>\n",
              "  <th>Omnibus:</th>       <td>278.915</td> <th>  Durbin-Watson:     </th> <td>   1.838</td>\n",
              "</tr>\n",
              "<tr>\n",
              "  <th>Prob(Omnibus):</th> <td> 0.000</td>  <th>  Jarque-Bera (JB):  </th> <td>1562.844</td>\n",
              "</tr>\n",
              "<tr>\n",
              "  <th>Skew:</th>          <td>-0.494</td>  <th>  Prob(JB):          </th> <td>    0.00</td>\n",
              "</tr>\n",
              "<tr>\n",
              "  <th>Kurtosis:</th>      <td> 7.127</td>  <th>  Cond. No.          </th> <td>    2.80</td>\n",
              "</tr>\n",
              "</table><br/><br/>Warnings:<br/>[1] Standard Errors assume that the covariance matrix of the errors is correctly specified."
            ],
            "text/plain": [
              "<class 'statsmodels.iolib.summary.Summary'>\n",
              "\"\"\"\n",
              "                            OLS Regression Results                            \n",
              "==============================================================================\n",
              "Dep. Variable:                      y   R-squared:                       0.141\n",
              "Model:                            OLS   Adj. R-squared:                  0.141\n",
              "Method:                 Least Squares   F-statistic:                     341.3\n",
              "Date:                Fri, 11 Mar 2022   Prob (F-statistic):           1.08e-70\n",
              "Time:                        15:37:02   Log-Likelihood:                -1666.0\n",
              "No. Observations:                2083   AIC:                             3336.\n",
              "Df Residuals:                    2081   BIC:                             3347.\n",
              "Df Model:                           1                                         \n",
              "Covariance Type:            nonrobust                                         \n",
              "==============================================================================\n",
              "                 coef    std err          t      P>|t|      [0.025      0.975]\n",
              "------------------------------------------------------------------------------\n",
              "x1             0.4397      0.024     18.475      0.000       0.393       0.486\n",
              "const         10.2062      0.018    570.935      0.000      10.171      10.241\n",
              "==============================================================================\n",
              "Omnibus:                      278.915   Durbin-Watson:                   1.838\n",
              "Prob(Omnibus):                  0.000   Jarque-Bera (JB):             1562.844\n",
              "Skew:                          -0.494   Prob(JB):                         0.00\n",
              "Kurtosis:                       7.127   Cond. No.                         2.80\n",
              "==============================================================================\n",
              "\n",
              "Warnings:\n",
              "[1] Standard Errors assume that the covariance matrix of the errors is correctly specified.\n",
              "\"\"\""
            ]
          },
          "metadata": {},
          "execution_count": 9
        }
      ]
    },
    {
      "cell_type": "markdown",
      "source": [
        "**Come commentiamo il risultato di questa stima? **\n",
        "\n",
        "\n",
        "1.   La **correlazione** stimata tra le due variabili è positiva o negativa?\n",
        "2.   La correlazione è stimata con sufficiente **precisione**?\n",
        "3.   Qual è l'**R-squared** del modello?\n",
        "\n",
        "Ora passiamo a vedere cosa succede quando aggiungiamo una seconda variabile al modello: alla fine, il modello di regressione lineare ha il vantaggio di consentirci di **analizzare come più di una variabile condizionano simultaneamente una variabile**, in questo caso i redditi.\n"
      ],
      "metadata": {
        "id": "SsnP_NGXoHXq"
      }
    },
    {
      "cell_type": "code",
      "source": [
        "# modello 2:\n",
        "famiglie_redux = famiglie[['madre_lavora', 'madre_laurea']]\n",
        "X = famiglie_redux.to_numpy()\n",
        "X = np.append(X,np.ones((len(famiglie_redux),1)),axis=1)\n",
        "ols = sm.OLS(logy, X)\n",
        "ols_result = ols.fit()\n",
        "ols_result.summary()"
      ],
      "metadata": {
        "colab": {
          "base_uri": "https://localhost:8080/",
          "height": 465
        },
        "id": "4G_de7N_-H8H",
        "outputId": "f709fb1d-dc75-4793-99c3-a1d0031f9cce"
      },
      "execution_count": null,
      "outputs": [
        {
          "output_type": "execute_result",
          "data": {
            "text/html": [
              "<table class=\"simpletable\">\n",
              "<caption>OLS Regression Results</caption>\n",
              "<tr>\n",
              "  <th>Dep. Variable:</th>            <td>y</td>        <th>  R-squared:         </th> <td>   0.182</td>\n",
              "</tr>\n",
              "<tr>\n",
              "  <th>Model:</th>                   <td>OLS</td>       <th>  Adj. R-squared:    </th> <td>   0.181</td>\n",
              "</tr>\n",
              "<tr>\n",
              "  <th>Method:</th>             <td>Least Squares</td>  <th>  F-statistic:       </th> <td>   231.1</td>\n",
              "</tr>\n",
              "<tr>\n",
              "  <th>Date:</th>             <td>Fri, 11 Mar 2022</td> <th>  Prob (F-statistic):</th> <td>2.27e-91</td>\n",
              "</tr>\n",
              "<tr>\n",
              "  <th>Time:</th>                 <td>12:36:19</td>     <th>  Log-Likelihood:    </th> <td> -1615.2</td>\n",
              "</tr>\n",
              "<tr>\n",
              "  <th>No. Observations:</th>      <td>  2083</td>      <th>  AIC:               </th> <td>   3236.</td>\n",
              "</tr>\n",
              "<tr>\n",
              "  <th>Df Residuals:</th>          <td>  2080</td>      <th>  BIC:               </th> <td>   3253.</td>\n",
              "</tr>\n",
              "<tr>\n",
              "  <th>Df Model:</th>              <td>     2</td>      <th>                     </th>     <td> </td>   \n",
              "</tr>\n",
              "<tr>\n",
              "  <th>Covariance Type:</th>      <td>nonrobust</td>    <th>                     </th>     <td> </td>   \n",
              "</tr>\n",
              "</table>\n",
              "<table class=\"simpletable\">\n",
              "<tr>\n",
              "    <td></td>       <th>coef</th>     <th>std err</th>      <th>t</th>      <th>P>|t|</th>  <th>[0.025</th>    <th>0.975]</th>  \n",
              "</tr>\n",
              "<tr>\n",
              "  <th>x1</th>    <td>    0.3728</td> <td>    0.024</td> <td>   15.442</td> <td> 0.000</td> <td>    0.325</td> <td>    0.420</td>\n",
              "</tr>\n",
              "<tr>\n",
              "  <th>x2</th>    <td>    0.3285</td> <td>    0.032</td> <td>   10.199</td> <td> 0.000</td> <td>    0.265</td> <td>    0.392</td>\n",
              "</tr>\n",
              "<tr>\n",
              "  <th>const</th> <td>   10.1895</td> <td>    0.018</td> <td>  581.408</td> <td> 0.000</td> <td>   10.155</td> <td>   10.224</td>\n",
              "</tr>\n",
              "</table>\n",
              "<table class=\"simpletable\">\n",
              "<tr>\n",
              "  <th>Omnibus:</th>       <td>296.224</td> <th>  Durbin-Watson:     </th> <td>   1.829</td>\n",
              "</tr>\n",
              "<tr>\n",
              "  <th>Prob(Omnibus):</th> <td> 0.000</td>  <th>  Jarque-Bera (JB):  </th> <td>1716.786</td>\n",
              "</tr>\n",
              "<tr>\n",
              "  <th>Skew:</th>          <td>-0.527</td>  <th>  Prob(JB):          </th> <td>    0.00</td>\n",
              "</tr>\n",
              "<tr>\n",
              "  <th>Kurtosis:</th>      <td> 7.321</td>  <th>  Cond. No.          </th> <td>    3.48</td>\n",
              "</tr>\n",
              "</table><br/><br/>Warnings:<br/>[1] Standard Errors assume that the covariance matrix of the errors is correctly specified."
            ],
            "text/plain": [
              "<class 'statsmodels.iolib.summary.Summary'>\n",
              "\"\"\"\n",
              "                            OLS Regression Results                            \n",
              "==============================================================================\n",
              "Dep. Variable:                      y   R-squared:                       0.182\n",
              "Model:                            OLS   Adj. R-squared:                  0.181\n",
              "Method:                 Least Squares   F-statistic:                     231.1\n",
              "Date:                Fri, 11 Mar 2022   Prob (F-statistic):           2.27e-91\n",
              "Time:                        12:36:19   Log-Likelihood:                -1615.2\n",
              "No. Observations:                2083   AIC:                             3236.\n",
              "Df Residuals:                    2080   BIC:                             3253.\n",
              "Df Model:                           2                                         \n",
              "Covariance Type:            nonrobust                                         \n",
              "==============================================================================\n",
              "                 coef    std err          t      P>|t|      [0.025      0.975]\n",
              "------------------------------------------------------------------------------\n",
              "x1             0.3728      0.024     15.442      0.000       0.325       0.420\n",
              "x2             0.3285      0.032     10.199      0.000       0.265       0.392\n",
              "const         10.1895      0.018    581.408      0.000      10.155      10.224\n",
              "==============================================================================\n",
              "Omnibus:                      296.224   Durbin-Watson:                   1.829\n",
              "Prob(Omnibus):                  0.000   Jarque-Bera (JB):             1716.786\n",
              "Skew:                          -0.527   Prob(JB):                         0.00\n",
              "Kurtosis:                       7.321   Cond. No.                         3.48\n",
              "==============================================================================\n",
              "\n",
              "Warnings:\n",
              "[1] Standard Errors assume that the covariance matrix of the errors is correctly specified.\n",
              "\"\"\""
            ]
          },
          "metadata": {},
          "execution_count": 73
        }
      ]
    },
    {
      "cell_type": "markdown",
      "source": [
        "**Come commentiamo il risultato di questa stima? **\n",
        "\n",
        "\n",
        "1.   La **correlazione** stimata tra le due variabili è positiva o negativa?\n",
        "2.   La correlazione è stimata con sufficiente **precisione**?\n",
        "3.   Qual è l'**R-squared** del modello?\n",
        "\n",
        "Il **modello n.2** è migliore del **modello n.1**?\n",
        "\n"
      ],
      "metadata": {
        "id": "nQDxkCLtt-M6"
      }
    },
    {
      "cell_type": "markdown",
      "source": [
        "**Proviamo adesso ad arricchire il nostro modello aggiungengo altre variabili tra le X.** Quali variabili vi sentireste di aggiungere?"
      ],
      "metadata": {
        "id": "QdsmZkjVPwlr"
      }
    },
    {
      "cell_type": "code",
      "source": [
        "# modello 3:\n",
        "# completa!"
      ],
      "metadata": {
        "id": "tKXzll0JsMNB"
      },
      "execution_count": null,
      "outputs": []
    },
    {
      "cell_type": "markdown",
      "source": [
        "**Come commentiamo il risultato di questa stima? **\n",
        "\n",
        "\n",
        "1.   La **correlazione** stimata tra le due variabili è positiva o negativa?\n",
        "2.   La correlazione è stimata con sufficiente **precisione**?\n",
        "3.   Qual è l'**R-squared** del modello?\n",
        "\n",
        "Il **modello n.3** è migliore del **modello n.2**?\n",
        "\n",
        "Proviamo adesso a stimare il seguente modello:"
      ],
      "metadata": {
        "id": "IuvzU_5mOu8m"
      }
    },
    {
      "cell_type": "code",
      "source": [
        "# modello 4:\n",
        "famiglie_redux = famiglie[['madre_lavora', 'madre_laurea','nfigli']]\n",
        "X = famiglie_redux.to_numpy()\n",
        "X = np.append(X,np.ones((len(famiglie_redux),1)),axis=1)\n",
        "ols = sm.OLS(logy, X)\n",
        "ols_result = ols.fit()\n",
        "ols_result.summary()"
      ],
      "metadata": {
        "colab": {
          "base_uri": "https://localhost:8080/",
          "height": 486
        },
        "id": "s6JMANntUpFI",
        "outputId": "fcee2356-e0d0-4011-e77c-d6b36b05285d"
      },
      "execution_count": null,
      "outputs": [
        {
          "output_type": "execute_result",
          "data": {
            "text/html": [
              "<table class=\"simpletable\">\n",
              "<caption>OLS Regression Results</caption>\n",
              "<tr>\n",
              "  <th>Dep. Variable:</th>            <td>y</td>        <th>  R-squared:         </th> <td>   0.184</td>\n",
              "</tr>\n",
              "<tr>\n",
              "  <th>Model:</th>                   <td>OLS</td>       <th>  Adj. R-squared:    </th> <td>   0.183</td>\n",
              "</tr>\n",
              "<tr>\n",
              "  <th>Method:</th>             <td>Least Squares</td>  <th>  F-statistic:       </th> <td>   156.4</td>\n",
              "</tr>\n",
              "<tr>\n",
              "  <th>Date:</th>             <td>Fri, 11 Mar 2022</td> <th>  Prob (F-statistic):</th> <td>2.19e-91</td>\n",
              "</tr>\n",
              "<tr>\n",
              "  <th>Time:</th>                 <td>16:35:28</td>     <th>  Log-Likelihood:    </th> <td> -1612.3</td>\n",
              "</tr>\n",
              "<tr>\n",
              "  <th>No. Observations:</th>      <td>  2083</td>      <th>  AIC:               </th> <td>   3233.</td>\n",
              "</tr>\n",
              "<tr>\n",
              "  <th>Df Residuals:</th>          <td>  2079</td>      <th>  BIC:               </th> <td>   3255.</td>\n",
              "</tr>\n",
              "<tr>\n",
              "  <th>Df Model:</th>              <td>     3</td>      <th>                     </th>     <td> </td>   \n",
              "</tr>\n",
              "<tr>\n",
              "  <th>Covariance Type:</th>      <td>nonrobust</td>    <th>                     </th>     <td> </td>   \n",
              "</tr>\n",
              "</table>\n",
              "<table class=\"simpletable\">\n",
              "<tr>\n",
              "    <td></td>       <th>coef</th>     <th>std err</th>      <th>t</th>      <th>P>|t|</th>  <th>[0.025</th>    <th>0.975]</th>  \n",
              "</tr>\n",
              "<tr>\n",
              "  <th>x1</th>    <td>    0.3805</td> <td>    0.024</td> <td>   15.641</td> <td> 0.000</td> <td>    0.333</td> <td>    0.428</td>\n",
              "</tr>\n",
              "<tr>\n",
              "  <th>x2</th>    <td>    0.3244</td> <td>    0.032</td> <td>   10.071</td> <td> 0.000</td> <td>    0.261</td> <td>    0.388</td>\n",
              "</tr>\n",
              "<tr>\n",
              "  <th>x3</th>    <td>    0.0286</td> <td>    0.012</td> <td>    2.405</td> <td> 0.016</td> <td>    0.005</td> <td>    0.052</td>\n",
              "</tr>\n",
              "<tr>\n",
              "  <th>const</th> <td>   10.1474</td> <td>    0.025</td> <td>  409.745</td> <td> 0.000</td> <td>   10.099</td> <td>   10.196</td>\n",
              "</tr>\n",
              "</table>\n",
              "<table class=\"simpletable\">\n",
              "<tr>\n",
              "  <th>Omnibus:</th>       <td>299.082</td> <th>  Durbin-Watson:     </th> <td>   1.828</td>\n",
              "</tr>\n",
              "<tr>\n",
              "  <th>Prob(Omnibus):</th> <td> 0.000</td>  <th>  Jarque-Bera (JB):  </th> <td>1713.752</td>\n",
              "</tr>\n",
              "<tr>\n",
              "  <th>Skew:</th>          <td>-0.538</td>  <th>  Prob(JB):          </th> <td>    0.00</td>\n",
              "</tr>\n",
              "<tr>\n",
              "  <th>Kurtosis:</th>      <td> 7.311</td>  <th>  Cond. No.          </th> <td>    5.75</td>\n",
              "</tr>\n",
              "</table><br/><br/>Warnings:<br/>[1] Standard Errors assume that the covariance matrix of the errors is correctly specified."
            ],
            "text/plain": [
              "<class 'statsmodels.iolib.summary.Summary'>\n",
              "\"\"\"\n",
              "                            OLS Regression Results                            \n",
              "==============================================================================\n",
              "Dep. Variable:                      y   R-squared:                       0.184\n",
              "Model:                            OLS   Adj. R-squared:                  0.183\n",
              "Method:                 Least Squares   F-statistic:                     156.4\n",
              "Date:                Fri, 11 Mar 2022   Prob (F-statistic):           2.19e-91\n",
              "Time:                        16:35:28   Log-Likelihood:                -1612.3\n",
              "No. Observations:                2083   AIC:                             3233.\n",
              "Df Residuals:                    2079   BIC:                             3255.\n",
              "Df Model:                           3                                         \n",
              "Covariance Type:            nonrobust                                         \n",
              "==============================================================================\n",
              "                 coef    std err          t      P>|t|      [0.025      0.975]\n",
              "------------------------------------------------------------------------------\n",
              "x1             0.3805      0.024     15.641      0.000       0.333       0.428\n",
              "x2             0.3244      0.032     10.071      0.000       0.261       0.388\n",
              "x3             0.0286      0.012      2.405      0.016       0.005       0.052\n",
              "const         10.1474      0.025    409.745      0.000      10.099      10.196\n",
              "==============================================================================\n",
              "Omnibus:                      299.082   Durbin-Watson:                   1.828\n",
              "Prob(Omnibus):                  0.000   Jarque-Bera (JB):             1713.752\n",
              "Skew:                          -0.538   Prob(JB):                         0.00\n",
              "Kurtosis:                       7.311   Cond. No.                         5.75\n",
              "==============================================================================\n",
              "\n",
              "Warnings:\n",
              "[1] Standard Errors assume that the covariance matrix of the errors is correctly specified.\n",
              "\"\"\""
            ]
          },
          "metadata": {},
          "execution_count": 10
        }
      ]
    },
    {
      "cell_type": "markdown",
      "source": [
        "Come possiamo commentare questi risultati? **Che correlazione c'è tra il reddito di una famiglia e il numero di figli di quest'ultima?**\n",
        "\n",
        "Secondo voi, **la correlazione tra il reddito della famiglia (Y) e il numero di figli (X) esprime un rapporto causale**, del tipo che X causa Y, o anche un numero di figli elevato causa un reddito famigliare elevato?"
      ],
      "metadata": {
        "id": "c2cmhyIkVfkZ"
      }
    }
  ],
  "metadata": {
    "colab": {
      "collapsed_sections": [],
      "name": "Modulo3_PCTO_Cannizzaro.ipynb",
      "provenance": []
    },
    "kernelspec": {
      "display_name": "Python 3",
      "name": "python3"
    },
    "language_info": {
      "name": "python"
    }
  },
  "nbformat": 4,
  "nbformat_minor": 0
}