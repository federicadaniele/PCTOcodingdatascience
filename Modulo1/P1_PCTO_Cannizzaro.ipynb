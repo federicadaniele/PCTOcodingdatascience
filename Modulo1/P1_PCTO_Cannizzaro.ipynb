{
  "nbformat": 4,
  "nbformat_minor": 0,
  "metadata": {
    "colab": {
      "name": "P1_PCTO_Cannizzaro.ipynb",
      "provenance": [],
      "collapsed_sections": []
    },
    "kernelspec": {
      "name": "python3",
      "display_name": "Python 3"
    },
    "language_info": {
      "name": "python"
    }
  },
  "cells": [
    {
      "cell_type": "markdown",
      "source": [
        "## Pomeriggio 1: Introduzione al coding"
      ],
      "metadata": {
        "id": "t9AUO4EUmqci"
      }
    },
    {
      "cell_type": "markdown",
      "source": [
        "**ESERCIZIO 1:** Un rettangolo ha base b e altezza h. \n",
        "Scegliere b e h, calcolare l'area del rettangolo e \"stampare\" il valore."
      ],
      "metadata": {
        "id": "2Ie_46cinkc4"
      }
    },
    {
      "cell_type": "code",
      "execution_count": null,
      "metadata": {
        "id": "GcTW8cpymoGY"
      },
      "outputs": [],
      "source": [
        "# Scrivi il codice qui\n",
        "b = # inserisci numero\n",
        "h = # inserisci numero\n"
      ]
    },
    {
      "cell_type": "markdown",
      "source": [
        "**ESERCIZIO 1*:** Vuoi provare a scrivere una funzione per calcolare l'area di un rettangolo dati due qualsiasi valori per la base e l'altezza?"
      ],
      "metadata": {
        "id": "3lNIkJnbQ0Cs"
      }
    },
    {
      "cell_type": "code",
      "source": [
        "# Scrivi il codice qui"
      ],
      "metadata": {
        "id": "fAblOgFSREQx"
      },
      "execution_count": null,
      "outputs": []
    },
    {
      "cell_type": "markdown",
      "source": [
        "**ESERCIZIO 2:** Scegliere tre numeri: n1, n2 e n3. Scrivere del codice per stamparli ordinati dal maggiore al minore. Il codice deve funzionare per qualunque n1, n2 e n3. "
      ],
      "metadata": {
        "id": "OqVi29tKpJ5b"
      }
    },
    {
      "cell_type": "code",
      "source": [
        "# Scrivi il codice qui\n",
        "n1 = # inserisci numero\n",
        "n2 = # inserisci numero\n",
        "n3 = # inserisci numero\n"
      ],
      "metadata": {
        "id": "IbVi8IAapmg-"
      },
      "execution_count": null,
      "outputs": []
    },
    {
      "cell_type": "markdown",
      "source": [
        "**ESERCIZIO 3:** Vai sul sito [StatBase](https://www.istat.it/it/dati-analisi-e-prodotti/banche-dati/statbase) e cerca un qualsiasi dataset di tuo interesse. \n",
        "1. Dal sito, osserva la tabella e cerca di capire cosa rappresentano le variabili (colonne).\n",
        "2. Scarica il dataset in formato csv (Esporta > File di testo (CSV)). Carica il file su Colab e visualizza il nome delle colonne e il tipo di ciascuna variabile.\n",
        "3. Visualizza il numero di righe.\n",
        "4. Controlla se ci sono dati mancanti."
      ],
      "metadata": {
        "id": "x9GohdXLuymh"
      }
    },
    {
      "cell_type": "code",
      "source": [
        "# Scrivi il codice qui"
      ],
      "metadata": {
        "id": "9SByfMuVuJVj"
      },
      "execution_count": null,
      "outputs": []
    }
  ]
}