{
  "nbformat": 4,
  "nbformat_minor": 0,
  "metadata": {
    "colab": {
      "name": "P2_PCTO_Cannizzaro.ipynb",
      "provenance": [],
      "collapsed_sections": []
    },
    "kernelspec": {
      "name": "python3",
      "display_name": "Python 3"
    },
    "language_info": {
      "name": "python"
    }
  },
  "cells": [
    {
      "cell_type": "markdown",
      "source": [
        "**ESERCIZIO 1:** Carica il dataset sulle emissioni. Qual'era il **livello mediano** di emissioni pro capite tra i vari paesi **nel 2018**? Quale paese nel 2018 aveva un valore di emissioni pro capite pari alla mediana?\n",
        "Di quanto è cresciuto il livello mediano di emissioni pro capite dal 1960 al 2018?"
      ],
      "metadata": {
        "id": "5hHEFszG3v3D"
      }
    },
    {
      "cell_type": "code",
      "source": [
        "# COMPLETA!"
      ],
      "metadata": {
        "id": "S8YTWxfE3uSN"
      },
      "execution_count": null,
      "outputs": []
    },
    {
      "cell_type": "markdown",
      "source": [
        "**ESERCIZIO 2:** Riesci a fare un grafico di tipo \"serie storica\" per far vedere l'evoluzione delle emissioni pro capite in Italia dal 1960 al 2018?"
      ],
      "metadata": {
        "id": "4K0Vcz-65CxM"
      }
    },
    {
      "cell_type": "code",
      "source": [
        "# COMPLETA!"
      ],
      "metadata": {
        "id": "Wsml9MCr5mIe"
      },
      "execution_count": null,
      "outputs": []
    },
    {
      "cell_type": "markdown",
      "source": [
        "**ESERCIZIO 3:** Collegati a [Google Trends](https://trends.google.it/trends/?geo=IT). Fai una ricerca su un argomento di tuo interesse. Riesci a spiegarti l'andamento dell'interesse nel tempo? Trova la data che corrisponde al maggiore interesse e cerca di scoprire come mai.  \n",
        "Riporta nella casella di testo sottostante:\n",
        "- il link alla tua ricerca\n",
        "- la tua breve interpretazione del grafico "
      ],
      "metadata": {
        "id": "nsLLbmdl1O6F"
      }
    }
  ]
}