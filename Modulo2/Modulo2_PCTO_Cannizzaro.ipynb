{
  "cells": [
    {
      "cell_type": "markdown",
      "metadata": {
        "id": "S5EzVi0ZTwTO"
      },
      "source": [
        "# Modulo 2: Saper leggere e rappresentare i dati\n",
        "\n",
        "Quest'oggi partiamo direttamente con l'utilizzo di un dataset 🚀. \n",
        "\n",
        "Il dataset con cui lavoreremo è un dataset contenente informazioni sulle **emissioni** prodotte dai singoli paesi dal 1960 al 2018 (**i valori sono espressi in tonnellate di CO2**).\n",
        "La fonte dei dati è la [banca dati](https://data.worldbank.org/) della Banca Mondiale.\n",
        "\n",
        "Come la scorsa volta iniziamo con il caricare tutte le librerie che ci servono.\n",
        "\n",
        "Carichiamo anche una funzione della libreria `google.colab`, `data_table` che ci semplifica la vita se vogliamo \"navigare\" i dati, ovvero ispezionarli.\n",
        "\n",
        " \n"
      ]
    },
    {
      "cell_type": "code",
      "execution_count": null,
      "metadata": {
        "id": "CKbUhb1-ZKlP"
      },
      "outputs": [],
      "source": [
        "import pandas as pd\n",
        "import numpy as np\n",
        "import matplotlib.pyplot as plt\n",
        "from google.colab import data_table\n",
        "data_table.enable_dataframe_formatter()\n"
      ]
    },
    {
      "cell_type": "markdown",
      "metadata": {
        "id": "U5L3wZ2MZNsC"
      },
      "source": [
        "Per prima cosa carichiamo il database che utilizzeremo oggi e diamogli una sbirciata."
      ]
    },
    {
      "cell_type": "code",
      "execution_count": null,
      "metadata": {
        "id": "zw1sK79wYw_v"
      },
      "outputs": [],
      "source": [
        "emissions = pd.read_csv('https://raw.githubusercontent.com/federicadaniele/PCTOcodingdatascience/main/Modulo2/emissions_WB.csv')\n",
        "emissions.head(100)"
      ]
    },
    {
      "cell_type": "code",
      "source": [
        "# il massimo che sono riuscita a trovare di distribuzione simmetrica in questo DB \n",
        "emissions_ITA = emissions[emissions['countryname'] == 'Italy'] \n",
        "emissions_ITA.hist('population',bins=10)"
      ],
      "metadata": {
        "id": "GuNGWVncsjMv"
      },
      "execution_count": null,
      "outputs": []
    },
    {
      "cell_type": "code",
      "source": [
        "emissions_ITA.head(10)"
      ],
      "metadata": {
        "id": "IupTeryRvC2V"
      },
      "execution_count": null,
      "outputs": []
    },
    {
      "cell_type": "markdown",
      "source": [
        "Iniziamo la cosiddetta esplorazione dei dati.\n",
        "\n",
        "Per cominiciare, cos'è che secondo voi identifica un'osservazione in questo database? \n",
        "\n",
        "Quali informazioni (o **variabili**) abbiamo su ciascuna osservazione? Che **tipologia di dati abbiamo**?\n",
        "\n",
        "Quante **osservazioni**?\n",
        "\n",
        "**A voi il 🎤!**\n",
        "\n",
        "\n"
      ],
      "metadata": {
        "id": "hX1WkOFTCN9P"
      }
    },
    {
      "cell_type": "code",
      "execution_count": null,
      "metadata": {
        "id": "7649APi8jauq"
      },
      "outputs": [],
      "source": [
        "# COMPLETA!"
      ]
    },
    {
      "cell_type": "markdown",
      "source": [
        "Quanti sono i paesi in tutto inclusi nel dataset?"
      ],
      "metadata": {
        "id": "X9UR9zX_CyPX"
      }
    },
    {
      "cell_type": "code",
      "source": [
        "len(pd.unique(emissions['countrycode']))"
      ],
      "metadata": {
        "id": "FNrb0BNtC1-J"
      },
      "execution_count": null,
      "outputs": []
    },
    {
      "cell_type": "markdown",
      "metadata": {
        "id": "JgRWTD3QlCQh"
      },
      "source": [
        "Il database presenta dei dati mancanti?"
      ]
    },
    {
      "cell_type": "code",
      "execution_count": null,
      "metadata": {
        "id": "YFcpr3jrlENd"
      },
      "outputs": [],
      "source": [
        "emissions.count()"
      ]
    },
    {
      "cell_type": "markdown",
      "source": [
        "Può essere utile vedere in quali anni si concentrano i dati mancanti:"
      ],
      "metadata": {
        "id": "e3Rpa1TzLNkg"
      }
    },
    {
      "cell_type": "code",
      "source": [
        "emissions['emissions'].groupby(emissions['year']).count()"
      ],
      "metadata": {
        "id": "ACBHzL39LRnD"
      },
      "execution_count": null,
      "outputs": []
    },
    {
      "cell_type": "markdown",
      "source": [
        "Ok, quindi sostanzialmente nel 1990 si aggiungono 20 paesi al dataset. Al fine di mantenere il gruppo di paesi sotto osservazione costanti nel tempo, rimuoviamo i paesi per i quali non abbiamo i dati completi."
      ],
      "metadata": {
        "id": "Hz-dTUoQLTG4"
      }
    },
    {
      "cell_type": "code",
      "source": [
        "conteggio = emissions['emissions'].groupby(emissions['countrycode']).count().reset_index(name='count')\n",
        "emissions = pd.merge(emissions,conteggio,on=['countrycode'],validate=\"many_to_one\",how=\"inner\",indicator=True)\n",
        "emissions = emissions[emissions['count']==59]\n",
        "emissions.count()"
      ],
      "metadata": {
        "id": "PuumrjGILmuy"
      },
      "execution_count": null,
      "outputs": []
    },
    {
      "cell_type": "markdown",
      "source": [
        "Quanti sono adesso i paesi inclusi nel database?"
      ],
      "metadata": {
        "id": "voa6-EjrNrkH"
      }
    },
    {
      "cell_type": "code",
      "source": [
        "# COMPLETA!"
      ],
      "metadata": {
        "id": "LA_BiyOuNuS3"
      },
      "execution_count": null,
      "outputs": []
    },
    {
      "cell_type": "markdown",
      "metadata": {
        "id": "cc5NqrRelHvK"
      },
      "source": [
        "Due diligence terminata ✅. Entriamo nel vivo della lezione di oggi. \n",
        " "
      ]
    },
    {
      "cell_type": "markdown",
      "metadata": {
        "id": "KXkwJgaqlQ4b"
      },
      "source": [
        "# Parte A: Saper leggere i dati. Basi di statistica.\n",
        "\n",
        "Abbiamo visto che abbiamo quasi 12.000 osservazioni, ovvero **un'osservazione per ogni paese e anno dal 1960 al 2018**: di ciascun paese in ciascun anno conosciamo le emissioni di CO2 complessive (espresse in tonnellate), la popolazione, e le emissioni **pro capite**.\n",
        "\n",
        "Qualcuno che conosce il significato dell'espressione \"pro capite\"?\n",
        "\n",
        "Cominciamo con l'analisi empirica vera e propria e con alcune **statistiche descrittive** che ci aiutano a leggere meglio questi dati:\n",
        "\n",
        "1.   Media\n",
        "2.   Minimo e massimo\n",
        "3.   Varianza\n",
        "4.   P90/P10"
      ]
    },
    {
      "cell_type": "markdown",
      "source": [
        "Partiamo dalla media: \n",
        "\n",
        "$\\overline{x}=\\frac{1}{N} \\sum_i x_i$\n"
      ],
      "metadata": {
        "id": "SLIF1OeFMuDR"
      }
    },
    {
      "cell_type": "code",
      "execution_count": null,
      "metadata": {
        "id": "wk4-A7eYlY2O"
      },
      "outputs": [],
      "source": [
        "emissions['emissions'].mean()"
      ]
    },
    {
      "cell_type": "markdown",
      "metadata": {
        "id": "vpYVtaXTnVfH"
      },
      "source": [
        "Quindi a quanto ammonta il valore medio delle emissioni prodotte dal 1960 ad oggi dai singoli paesi? A voi il 🎤!\n",
        "\n",
        "Quali sono le altre statistiche descrittive che abbiamo visto? Calcolarle in `python` è molto più semplice che farlo con la calcolatrice. Pensa alla varianza:\n",
        "$ \\sigma^2 = \\frac{1}{N} \\sum_i (x_i - \\overline{x})^2 $ \n",
        "\n",
        "Il comando che ci consente di calcolarle in `python` è molto semplice:\n",
        "\n",
        "```\n",
        "# database['variabile'].stat()\n",
        "```\n",
        "\n",
        "dove `.stat()` può essere `.mean()`, `.var()`, `.min()`, `.max()`, `.quantile(q=0.10)`, `.quantile(q=0.90)`.\n",
        "\n"
      ]
    },
    {
      "cell_type": "markdown",
      "metadata": {
        "id": "i8bJetWSsJSZ"
      },
      "source": [
        "**Domanda**: i diversi paesi hanno prodotto **in media** più o meno emissioni nel 2018 rispetto al 1960? \n",
        "\n",
        "Per rispondere a questa domanda ci serve calcolare la media delle emissioni in ciascun anno, che possiamo fare con `groupby`, una funzione molto utile che ci consente di calcolare media, varianza, etc. di una determinata variabile (chiamiamola \"variabile1\") per **sottogruppi**, dove chiamiamo \"variabile2\" la variabile che identifica i sottogruppi:\n",
        "\n",
        "La struttura del comando per calcolare **statistiche descrittive per sottogruppi** è:\n",
        "```\n",
        "# database['variabile1'].groupby(database['variabile2']).stat()\n",
        "```\n",
        " \n",
        "Applichiamo la regola per trovare il valore medio delle emissioni in ciascun anno:\n",
        "\n"
      ]
    },
    {
      "cell_type": "code",
      "execution_count": null,
      "metadata": {
        "id": "GYmTRq7toJ_h"
      },
      "outputs": [],
      "source": [
        "emissions['emissions'].groupby(emissions['year']).mean()"
      ]
    },
    {
      "cell_type": "code",
      "source": [
        "# per conoscere invece il totale?\n",
        "emissions['emissions'].groupby(emissions['year']).sum()/1000000000"
      ],
      "metadata": {
        "id": "9dCOnBOJvzOA"
      },
      "execution_count": null,
      "outputs": []
    },
    {
      "cell_type": "markdown",
      "source": [
        "**Esercizio** 💡: riuscite a scrivere un semplice comando per calcolare più o meno il tasso di crescita delle emissioni medie dal 1960 al 2018?\n",
        "\n",
        "**Suggerimento**: vi conviene fare uno step intermedio e creare un dataset intermedio in cui salvate le medie annuali."
      ],
      "metadata": {
        "id": "oWXb7mv-Q1vY"
      }
    },
    {
      "cell_type": "code",
      "source": [
        "# COMPLETA!"
      ],
      "metadata": {
        "id": "kpdBTNMVQ-oM"
      },
      "execution_count": null,
      "outputs": []
    },
    {
      "cell_type": "markdown",
      "source": [
        "Un modo alternativo e più rigoroso è quello di sfruttare l'**indicizzazione** delle osservazioni all'interno di un dataframe. In sostanza, ciascun dataframe dispone di un **indice** che identifica univocamente un'osservazione all'interno del database."
      ],
      "metadata": {
        "id": "3vyeXi5sUh0L"
      }
    },
    {
      "cell_type": "code",
      "source": [
        "medie = emissions['emissions'].groupby(emissions['year']).mean()\n",
        "medie.head()"
      ],
      "metadata": {
        "id": "yUgcdWYbylc4"
      },
      "execution_count": null,
      "outputs": []
    },
    {
      "cell_type": "markdown",
      "source": [
        "Per esempio: vogliamo conoscere l'ammontare delle emissioni medie nel 2018? Possiamo farlo chiedendo di \"stampare\" la riga del database associata all'indice = 2018:"
      ],
      "metadata": {
        "id": "dfOqWE3YzG14"
      }
    },
    {
      "cell_type": "code",
      "source": [
        "print(medie[2018])"
      ],
      "metadata": {
        "id": "PbuL1Sg0zVrF"
      },
      "execution_count": null,
      "outputs": []
    },
    {
      "cell_type": "markdown",
      "source": [
        "Riuscite a trovare un modo alternativo per calcolare il tasso di crescita delle emissioni medie annue dal 1960 al 2018 sfruttando l'indicizzazione dei dati?"
      ],
      "metadata": {
        "id": "DQtuFFO-zcA6"
      }
    },
    {
      "cell_type": "code",
      "source": [
        "# COMPLETA!"
      ],
      "metadata": {
        "id": "hq-JUKIVzqeA"
      },
      "execution_count": null,
      "outputs": []
    },
    {
      "cell_type": "markdown",
      "source": [
        "**Domanda:** cambia qualcosa se al posto delle emissioni totali di ciascun paese utilizziamo le **emissioni pro capite?**"
      ],
      "metadata": {
        "id": "hKbj8YRBSfpZ"
      }
    },
    {
      "cell_type": "code",
      "source": [
        "medie = emissions['emissions_per_capita'].groupby(emissions['year']).mean()\n",
        "# COMPLETA!"
      ],
      "metadata": {
        "id": "pEHHw_ZMSzHz"
      },
      "execution_count": null,
      "outputs": []
    },
    {
      "cell_type": "markdown",
      "source": [
        "**Secondo voi ** se uno volesse sapere quale paese inquina di più, quale delle due variabili gli converrebbe utilizzare, emissioni o emissioni pro capite?\n",
        "\n",
        "Andiamo avanti... \n",
        "Durante l'analisi di un database, **potrebbe essere utile sapere come selezionare soltanto alcune righe o osservazioni** per fare delle analisi solo su queste. \n",
        "Un modo per selezionare alcune righe specifiche lo abbiamo già visto, è quello dell'indicizzazione, ma esiste un metodo più efficiente, che ci consente di **selezionare tutti i dati che rispettano una determinata condizione**.\n",
        "\n",
        "La struttura per farlo è la seguente:\n",
        "\n",
        "```\n",
        "# database[database['variabile']=='condizione']\n",
        "```\n",
        "\n",
        "Vediamo un esempio. Vogliamo selezionare i dati sulle emissioni riferiti soltanto al 2018:"
      ],
      "metadata": {
        "id": "D7hADpad0zSK"
      }
    },
    {
      "cell_type": "code",
      "source": [
        "emissions2018 = emissions[emissions['year'] == 2018]"
      ],
      "metadata": {
        "id": "ljmThXy03d2b"
      },
      "execution_count": null,
      "outputs": []
    },
    {
      "cell_type": "markdown",
      "source": [
        "Per esempio vogliamo conoscere **qual'è il paese che nel 2018 aveva un valore di emissioni pro capite uguale al valore minimo/massimo:**"
      ],
      "metadata": {
        "id": "I2ME6-I-0Al2"
      }
    },
    {
      "cell_type": "code",
      "source": [
        "# calcoliamo prima il valore minimo e massimo:\n",
        "minempc = emissions2018['emissions_per_capita'].min()\n",
        "maxempc = emissions2018['emissions_per_capita'].max()\n",
        "\n",
        "# e poi \"sezioniamo\" i dati chiedendo di selezionare soltanto le osservazioni che rispettano la condizione: quale condizione?\n",
        "emissions2018[emissions2018['emissions_per_capita'] == maxempc] "
      ],
      "metadata": {
        "id": "Ty2Wv9gf0Hfh"
      },
      "execution_count": null,
      "outputs": []
    },
    {
      "cell_type": "code",
      "source": [
        "# COMPLETA!"
      ],
      "metadata": {
        "id": "a7-P8ulI7i3U"
      },
      "execution_count": null,
      "outputs": []
    },
    {
      "cell_type": "markdown",
      "source": [
        "Durante la presentazione abbiamo parlato del concetto di **variabilità dei dati**. Non tutti i paesi inquinano allo stesso modo: abbiamo visto come banalmente alcuni paesi sono più popolosi e inquinano di più.\n",
        "\n",
        "Ad esempio, **nel 2018 il 10% di paesi con i valori più alti di emissioni pro capite inquinavano quasi 38 volte tanto quanto inquinavano il 10% di paesi con i valori più bassi di emissioni pro capite:**"
      ],
      "metadata": {
        "id": "ZyRrLEXs71c7"
      }
    },
    {
      "cell_type": "code",
      "source": [
        "emissions2018['emissions_per_capita'].quantile(q=0.90)/emissions2018['emissions_per_capita'].quantile(q=0.10)"
      ],
      "metadata": {
        "id": "kayU6v-T78fA"
      },
      "execution_count": null,
      "outputs": []
    },
    {
      "cell_type": "markdown",
      "metadata": {
        "id": "8S5umbEcrAxl"
      },
      "source": [
        "Un altro modo abbastanza intuitivo per riassumere la variabilità dei dati è quella di calcolare il **coefficiente di variazione**:\n",
        "\n",
        "$CV = \\sigma / \\overline{x}$\n",
        "\n",
        "ovvero il rapporto tra la deviazione standard (la radice quadrata della varianza) e la media.\n",
        "\n",
        "Il coefficiente di variazione ci dice quanto sono diversi tra loro i dati relativi ad una determinata variabile in relazione al valore medio di quella determinata variabile (quest'ultima operazione di dividere per il valore medio di una variabile si chiama anche **normalizzazione**). **Tanto maggiore è il coefficiente di variazione quindi, tanto maggiore è la variabilità dei dati.**\n",
        "\n",
        "Per esempio, potremmo domandarci qual'è il coefficiente di variazione complessivo dei nostri dati nel 2018?\n",
        "\n",
        "**Esercizio** 💡: vuoi provare a rispondere all'ultima domanda?"
      ]
    },
    {
      "cell_type": "code",
      "source": [
        "medie = emissions2018['emissions_per_capita'].mean()\n",
        "sigma2 = emissions2018['emissions_per_capita'].var()\n",
        "\n",
        "# utilizziamo numpy:\n",
        "sigma = np.sqrt(sigma2)\n",
        "CV = medie/sigma\n",
        "print(CV)"
      ],
      "metadata": {
        "id": "OmjOw49BUarM"
      },
      "execution_count": null,
      "outputs": []
    },
    {
      "cell_type": "markdown",
      "metadata": {
        "id": "dqef9oP22JcS"
      },
      "source": [
        "La variabilità delle emissioni pro capite la possiamo vedere anche con l'aiuto di un **istogramma**, che ci consente di visualizzare la **distribuzione** di una determinata variabile."
      ]
    },
    {
      "cell_type": "code",
      "execution_count": null,
      "metadata": {
        "id": "tshIrG8l1gQb"
      },
      "outputs": [],
      "source": [
        "emissions2018.hist('emissions_per_capita',bins=100)"
      ]
    },
    {
      "cell_type": "markdown",
      "metadata": {
        "id": "jRL40gIw8NJ3"
      },
      "source": [
        "# Parte B: Saper rappresentare i dati\n",
        "Prima abbiamo visto di quanto è aumentata in media la produzione di emissioni nel corso degli anni. Questa informazione la possiamo inserire in una tabella se stiamo facendo una presentazione. Tuttavia un **grafico** è spesso un modo più efficace di comunicare."
      ]
    },
    {
      "cell_type": "code",
      "execution_count": null,
      "metadata": {
        "id": "bY8ItWjj6Tpk"
      },
      "outputs": [],
      "source": [
        "emissions['media'] = emissions['emissions'].groupby(emissions['year']).mean() \n",
        "emissions['media'].plot()"
      ]
    },
    {
      "cell_type": "markdown",
      "source": [
        "Questo particolare grafico ci consente di visualizzare quella che in gergo si chiama una **serie storica**, ovvero una determinata variabile osservata nel corso del tempo.\n",
        "\n",
        "Ora costruisci un grafico analogo ma applicato alle emissioni pro capite. **Trovi delle differenze?**"
      ],
      "metadata": {
        "id": "EEL_zbmU120V"
      }
    },
    {
      "cell_type": "code",
      "source": [
        "# COMPLETA!"
      ],
      "metadata": {
        "id": "OcYDo61RJNio"
      },
      "execution_count": null,
      "outputs": []
    },
    {
      "cell_type": "markdown",
      "source": [
        "Un altro modo utile di visualizzare i dati è quello del **grafico a barre.** Per esempio vogliamo vedere a quanto ammontavano le emissioni pro capite nel 2018 in Italia, Francia e Cina a confronto."
      ],
      "metadata": {
        "id": "94vP1AhmJPXV"
      }
    },
    {
      "cell_type": "code",
      "execution_count": null,
      "metadata": {
        "id": "3M-PGXcT-hrb"
      },
      "outputs": [],
      "source": [
        "emissionssubset = emissions[(emissions['countrycode']=='ITA')|(emissions['countrycode']=='FRA')|(emissions['countrycode']=='CHN')]\n",
        "emissionssubset = emissionssubset[(emissionssubset['year']==1960)|(emissionssubset['year']==1980)|(emissionssubset['year']==2000)|(emissionssubset['year']==2018)]\n",
        "\n",
        "emissionssubset = emissionssubset[['year','countrycode','emissions_per_capita']]\n",
        "pivot =  emissionssubset.pivot(index=\"year\", columns=\"countrycode\", values=\"emissions_per_capita\")\n",
        "\n",
        "pivot.head()\n",
        "ax = pivot.plot.bar(rot=0)"
      ]
    },
    {
      "cell_type": "markdown",
      "source": [
        "**Cosa notate?** 🎤 a voi!"
      ],
      "metadata": {
        "id": "7Z9jE4dVRVzO"
      }
    },
    {
      "cell_type": "markdown",
      "source": [
        "Un ultimo tipo di grafico che vediamo è un grafico molto utilizzato, il cosiddetto **scatter plot**. Lo scatter plot serve principalmente per visualizzare la correlazione tra due variabili numeriche. Una variabile verrà visualizzata sull'asse delle y, mentre l'altra sull'asse delle x. \n",
        "\n",
        "Per esempio, possiamo visualizzare sull'asse delle y il valore delle emissioni pro capite e su quello delle x la popolazione complessiva. Lo possiamo fare nel 1960 e poi ripetere nel 2018, **per vedere se la correlazione tra le due variabili è cambiata**."
      ],
      "metadata": {
        "id": "Z2vi62UiA8BZ"
      }
    },
    {
      "cell_type": "code",
      "execution_count": null,
      "metadata": {
        "id": "rp_q3YlQ_KU8"
      },
      "outputs": [],
      "source": [
        "# facciamo il grafico relativo al 1960:\n",
        "x = np.log(emissions['population'][(emissions['year'] == 1960)])\n",
        "y = np.log(emissions['emissions_per_capita'][(emissions['year'] == 1960)])\n",
        "m, b = np.polyfit(x, y, 1)\n",
        "plt.scatter(x, y, alpha=0.5)\n",
        "plt.plot(x, m*x + b)\n",
        "plt.xlabel(\"Popolazione\")\n",
        "plt.ylabel(\"Emissioni CO2 pro capite\")"
      ]
    },
    {
      "cell_type": "code",
      "source": [
        "# lo replichiamo per il 2018:\n",
        "x = np.log(emissions['population'][(emissions['year'] == 2018)])\n",
        "y = np.log(emissions['emissions_per_capita'][(emissions['year'] == 2018)])\n",
        "m, b = np.polyfit(x, y, 1)\n",
        "plt.scatter(x, y, alpha=0.5)\n",
        "plt.plot(x, m*x + b)\n",
        "plt.xlabel(\"Popolazione\")\n",
        "plt.ylabel(\"Emissioni CO2 pro capite\")"
      ],
      "metadata": {
        "id": "lWPAm8fpSiBB"
      },
      "execution_count": null,
      "outputs": []
    },
    {
      "cell_type": "markdown",
      "source": [
        "**Cosa notate?** 🎤 a voi!"
      ],
      "metadata": {
        "id": "fjWXvWdIL4wO"
      }
    }
  ],
  "metadata": {
    "colab": {
      "collapsed_sections": [],
      "name": "Modulo2_PCTO_Cannizzaro.ipynb",
      "provenance": []
    },
    "kernelspec": {
      "display_name": "Python 3",
      "name": "python3"
    },
    "language_info": {
      "name": "python"
    }
  },
  "nbformat": 4,
  "nbformat_minor": 0
}